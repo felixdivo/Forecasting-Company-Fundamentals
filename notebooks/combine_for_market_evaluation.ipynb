{
 "cells": [
  {
   "attachments": {},
   "cell_type": "markdown",
   "metadata": {},
   "source": [
    "# Combine multiple horizons/time slice predictions into one file for market evaluation"
   ]
  },
  {
   "attachments": {},
   "cell_type": "markdown",
   "metadata": {},
   "source": [
    "## Setup"
   ]
  },
  {
   "cell_type": "code",
   "execution_count": null,
   "metadata": {},
   "outputs": [],
   "source": [
    "import pickle\n",
    "from pathlib import Path\n",
    "\n",
    "import pandas as pd\n",
    "\n",
    "from rich.progress import track\n",
    "\n",
    "from forecasting_cfs.eval_model import ForecastingResult\n",
    "from proprietary_data import KEY_FEATURE_NAMES, get_adjusted_inverse_transform\n"
   ]
  },
  {
   "cell_type": "code",
   "execution_count": null,
   "metadata": {},
   "outputs": [],
   "source": [
    "OUT_PATH = Path(\"forecast_baselines\") / \"all_features_False-static_covariates_False\"\n"
   ]
  },
  {
   "attachments": {},
   "cell_type": "markdown",
   "metadata": {},
   "source": [
    "## Load data"
   ]
  },
  {
   "cell_type": "code",
   "execution_count": null,
   "metadata": {},
   "outputs": [],
   "source": [
    "predictions: list[dict[str, list[ForecastingResult]]] = []\n",
    "\n",
    "for split_directory in track(\n",
    "    list(sorted(OUT_PATH.iterdir())), description=\"Loading predictions\"\n",
    "):\n",
    "    # Try to parse name as int\n",
    "    try:\n",
    "        int(split_directory.name)\n",
    "    except ValueError:\n",
    "        continue\n",
    "\n",
    "    with open(split_directory / \"result_data\" / \"example_predictions.pkl\", \"rb\") as f:\n",
    "        predictions.append(pickle.load(f))\n",
    "\n",
    "len(predictions)\n"
   ]
  },
  {
   "cell_type": "code",
   "execution_count": null,
   "metadata": {},
   "outputs": [],
   "source": [
    "inverse_transform = get_adjusted_inverse_transform(features=KEY_FEATURE_NAMES)\n"
   ]
  },
  {
   "cell_type": "code",
   "execution_count": null,
   "metadata": {},
   "outputs": [],
   "source": [
    "all_models = list(predictions[0].keys())\n",
    "all_models\n"
   ]
  },
  {
   "cell_type": "code",
   "execution_count": null,
   "metadata": {},
   "outputs": [],
   "source": [
    "model = \"ARMA_1Q\"\n"
   ]
  },
  {
   "cell_type": "code",
   "execution_count": null,
   "metadata": {},
   "outputs": [],
   "source": [
    "all_for_model = [entry for time_span in predictions for entry in time_span[model]]\n",
    "assert len(all_for_model) == len(predictions) * 2485\n",
    "model, len(all_for_model)\n"
   ]
  },
  {
   "attachments": {},
   "cell_type": "markdown",
   "metadata": {},
   "source": [
    "## Process forecasts"
   ]
  },
  {
   "cell_type": "code",
   "execution_count": null,
   "metadata": {},
   "outputs": [],
   "source": [
    "forecasts = pd.concat(\n",
    "    {\n",
    "        (\n",
    "            int(entry.meta_data[\"companyid\"]),\n",
    "            entry.ts_past.time_index[-1],\n",
    "        ): entry.ts_forecast.pd_dataframe()\n",
    "        for entry in all_for_model\n",
    "    },\n",
    "    names=[\"companyid\", \"last_known_date\"],\n",
    ")\n",
    "forecasts\n"
   ]
  },
  {
   "cell_type": "code",
   "execution_count": null,
   "metadata": {},
   "outputs": [],
   "source": [
    "forecasts_original = pd.DataFrame(inverse_transform(forecasts.to_numpy()), columns=forecasts.columns, index=forecasts.index)\n",
    "forecasts_original"
   ]
  },
  {
   "cell_type": "code",
   "execution_count": null,
   "metadata": {},
   "outputs": [],
   "source": [
    "forecasts_original.query(\"companyid == 18527\")"
   ]
  },
  {
   "attachments": {},
   "cell_type": "markdown",
   "metadata": {},
   "source": [
    "## Save forecasts"
   ]
  },
  {
   "cell_type": "code",
   "execution_count": null,
   "metadata": {},
   "outputs": [],
   "source": [
    "path_aggregated = OUT_PATH / \"aggregated\"\n",
    "path_aggregated.mkdir(exist_ok=True)\n",
    "forecasts_original.to_pickle(path_aggregated / f\"{model}_forecasts_original.pkl\")\n",
    "\n",
    "!ls -lsh {path_aggregated}\n"
   ]
  },
  {
   "cell_type": "code",
   "execution_count": null,
   "metadata": {},
   "outputs": [],
   "source": []
  }
 ],
 "metadata": {
  "kernelspec": {
   "display_name": "Python 3",
   "language": "python",
   "name": "python3"
  },
  "language_info": {
   "codemirror_mode": {
    "name": "ipython",
    "version": 3
   },
   "file_extension": ".py",
   "mimetype": "text/x-python",
   "name": "python",
   "nbconvert_exporter": "python",
   "pygments_lexer": "ipython3",
   "version": "3.10.10"
  },
  "orig_nbformat": 4
 },
 "nbformat": 4,
 "nbformat_minor": 2
}
