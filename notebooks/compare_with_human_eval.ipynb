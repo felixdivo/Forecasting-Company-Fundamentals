{
 "cells": [
  {
   "cell_type": "code",
   "execution_count": null,
   "metadata": {},
   "outputs": [],
   "source": [
    "import pandas as pd\n",
    "import numpy as np\n",
    "import torch\n",
    "\n",
    "from proprietary_data import CompanyFundamentalsKind, get_data_frame\n",
    "from scipy import stats\n",
    "\n",
    "from torchmetrics import MetricCollection\n",
    "from torchmetrics import (\n",
    "    MeanAbsoluteError,\n",
    "    MeanSquaredError,\n",
    "    R2Score,\n",
    "    MeanAbsolutePercentageError,\n",
    "    SymmetricMeanAbsolutePercentageError,\n",
    "    RelativeSquaredError,\n",
    ")"
   ]
  },
  {
   "cell_type": "code",
   "execution_count": null,
   "metadata": {},
   "outputs": [],
   "source": [
    "df = get_data_frame(CompanyFundamentalsKind.Normalized, subset=False, min_length=\"max\")\n",
    "df"
   ]
  },
  {
   "cell_type": "code",
   "execution_count": null,
   "metadata": {},
   "outputs": [],
   "source": [
    "human_column = \"Revenue F12M Analyst Estimate\""
   ]
  },
  {
   "cell_type": "code",
   "execution_count": null,
   "metadata": {},
   "outputs": [],
   "source": [
    "df_key = df[df[human_column].notna()]\n",
    "f\"{100*df_key.size / df.size:.2f}% of the data has expert estimates\""
   ]
  },
  {
   "cell_type": "code",
   "execution_count": null,
   "metadata": {},
   "outputs": [],
   "source": [
    "# np.savetxt(\n",
    "#     \"human_eval_companies.csv\", df_key[\"companyid\"].unique(), delimiter=\",\", fmt=\"%s\"\n",
    "# )"
   ]
  },
  {
   "cell_type": "code",
   "execution_count": null,
   "metadata": {},
   "outputs": [],
   "source": [
    "df_key = df_key[\n",
    "    # For some reason, this is the date range of the expert estimates\n",
    "    (df_key[\"aca_quarter\"] >= \"2013-07-01\") & (df_key[\"aca_quarter\"] <= \"2022-04-01\")\n",
    "]\n",
    "df_key"
   ]
  },
  {
   "cell_type": "code",
   "execution_count": null,
   "metadata": {},
   "outputs": [],
   "source": [
    "from acatis_data import get_data_transform\n",
    "\n",
    "data_transform = get_data_transform(CompanyFundamentalsKind.Normalized)"
   ]
  },
  {
   "cell_type": "code",
   "execution_count": null,
   "metadata": {},
   "outputs": [],
   "source": [
    "mean_rev, mean_est = data_transform.standardizer.mean_[\n",
    "    [\n",
    "        data_transform._feature_names.index(\"Total Revenues\"),\n",
    "        data_transform._feature_names.index(\"Revenue F12M Analyst Estimate\"),\n",
    "    ]\n",
    "]\n",
    "mean_rev, mean_est"
   ]
  },
  {
   "cell_type": "code",
   "execution_count": null,
   "metadata": {},
   "outputs": [],
   "source": [
    "var_rev, var_est = data_transform.standardizer.var_[\n",
    "    [\n",
    "        data_transform._feature_names.index(\"Total Revenues\"),\n",
    "        data_transform._feature_names.index(\"Revenue F12M Analyst Estimate\"),\n",
    "    ]\n",
    "]\n",
    "var_rev, var_est"
   ]
  },
  {
   "cell_type": "code",
   "execution_count": null,
   "metadata": {},
   "outputs": [],
   "source": [
    "(df_key[\"Revenue F12M Analyst Estimate\"] * var_est).var()"
   ]
  },
  {
   "cell_type": "code",
   "execution_count": null,
   "metadata": {},
   "outputs": [],
   "source": [
    "df_key_corrected = df_key.copy()\n",
    "df_key_corrected[\"Revenue F12M Analyst Estimate\"] = (\n",
    "    df_key_corrected[\"Revenue F12M Analyst Estimate\"] * var_est + mean_est - mean_rev\n",
    ") # / var_rev"
   ]
  },
  {
   "cell_type": "code",
   "execution_count": null,
   "metadata": {},
   "outputs": [],
   "source": [
    "specific = df_key_corrected[df_key_corrected[\"companyname\"] == \"Cisco Systems, Inc.\"]\n",
    "specific.plot(\n",
    "    x=\"aca_quarter\",\n",
    "    y=[\"Total Revenues\", \"Revenue F12M Analyst Estimate\"],\n",
    "    title=\"ABB Ltd\",\n",
    ")\n",
    "pass"
   ]
  },
  {
   "cell_type": "code",
   "execution_count": null,
   "metadata": {},
   "outputs": [],
   "source": [
    "# Not all have quite the same size\n",
    "df = df_key_corrected\n",
    "sections = [\n",
    "    df[df[\"aca_quarter\"] == quarter][[\"Total Revenues\", human_column]]\n",
    "    for quarter in df[\"aca_quarter\"].unique()\n",
    "]\n",
    "len(sections)"
   ]
  },
  {
   "cell_type": "code",
   "execution_count": null,
   "metadata": {},
   "outputs": [],
   "source": [
    "# truth, estimate = df_key[[\"Total Revenues\", human_column]].to_numpy().T\n",
    "# truth.shape, estimate.shape"
   ]
  },
  {
   "cell_type": "code",
   "execution_count": null,
   "metadata": {},
   "outputs": [],
   "source": [
    "metrics = MetricCollection(\n",
    "    {\n",
    "        \"MAE\": MeanAbsoluteError(),\n",
    "        \"MSE\": MeanSquaredError(),\n",
    "        \"RMSE\": MeanSquaredError(squared=False),\n",
    "        \"R2\": R2Score(),\n",
    "        \"MAPE\": MeanAbsolutePercentageError(),\n",
    "        \"SMAPE\": SymmetricMeanAbsolutePercentageError(),\n",
    "        \"RSE\": RelativeSquaredError(),\n",
    "    }\n",
    ")\n",
    "\n",
    "lim = 4"
   ]
  },
  {
   "cell_type": "code",
   "execution_count": null,
   "metadata": {},
   "outputs": [],
   "source": [
    "def mae(pred: np.ndarray, truth: np.ndarray) -> np.ndarray:\n",
    "    res = np.abs(pred - truth)\n",
    "    res = res[stats.zscore(res) < lim]\n",
    "    return res.mean()\n",
    "\n",
    "def mse(pred: np.ndarray, truth: np.ndarray) -> np.ndarray:\n",
    "    res = np.square(pred - truth)\n",
    "    res = res[stats.zscore(res) < lim]\n",
    "    return res.mean()\n",
    "\n",
    "def rmse(pred: np.ndarray, truth: np.ndarray) -> np.ndarray:\n",
    "    overall = mse(pred, truth)\n",
    "    return np.sqrt(overall.mean())\n",
    "\n",
    "def mape(\n",
    "    pred: np.ndarray, truth: np.ndarray, epsilon: float = 1.17e-06\n",
    ") -> np.ndarray:\n",
    "    res = np.abs(pred - truth) / np.maximum(np.abs(truth), epsilon)\n",
    "    res = res[stats.zscore(res) < lim]\n",
    "    return res.mean()\n",
    "\n",
    "def rse(\n",
    "    pred: np.ndarray, truth: np.ndarray, epsilon: float = 1.17e-06\n",
    ") -> np.ndarray:\n",
    "    divisor = np.square(truth - truth.mean())\n",
    "    # np.square(truth - truth.mean(fh_dim), fh_dim)) + epsilon\n",
    "    above = np.square(pred - truth)\n",
    "    mask = np.logical_and(stats.zscore(divisor) < lim, stats.zscore(above) < lim)\n",
    "    return above[mask].mean() / (divisor[mask] + epsilon).mean()\n",
    "\n",
    "def smape(\n",
    "    pred: np.ndarray, truth: np.ndarray, epsilon: float = 1.17e-06\n",
    ") -> np.ndarray:\n",
    "    res = np.abs(pred - truth) / np.maximum(\n",
    "        np.abs(pred), np.maximum(np.abs(truth), epsilon)\n",
    "    )\n",
    "    res = res[stats.zscore(res) < lim]\n",
    "    return res.mean()\n",
    "\n",
    "def r2(\n",
    "    pred: np.ndarray, truth: np.ndarray, epsilon: float = 1.17e-06\n",
    ") -> np.ndarray:\n",
    "    # mean over horizon\n",
    "    quadratic_error = np.square(pred - truth)\n",
    "    mask = stats.zscore(quadratic_error) < lim\n",
    "    result = np.sum(quadratic_error[mask]) / (\n",
    "        np.sum(np.square(truth - truth.mean())[mask])\n",
    "        + epsilon\n",
    "    )\n",
    "    return 1 - result\n",
    "\n",
    "def compute_all(preds: np.ndarray, targets: np.ndarray):\n",
    "    return {\n",
    "        \"MAE\": mae(preds, targets),\n",
    "        \"MSE\": mse(preds, targets),\n",
    "        \"RMSE\": rmse(preds, targets),\n",
    "        \"MAPE\": mape(preds, targets),\n",
    "        \"RSE\": rse(preds, targets),\n",
    "        \"SMAPE\": smape(preds, targets),\n",
    "        \"R2\": r2(preds, targets),\n",
    "    }"
   ]
  },
  {
   "cell_type": "code",
   "execution_count": null,
   "metadata": {},
   "outputs": [],
   "source": [
    "errors = [\n",
    "    {\"split\": split, \"metric\": name, \"value\": value.item()}\n",
    "    for split, section in enumerate(sections)\n",
    "    for name, value in compute_all(\n",
    "        section[\"Total Revenues\"].to_numpy(),\n",
    "        section[human_column].to_numpy(),\n",
    "    ).items()\n",
    "]\n",
    "len(errors)"
   ]
  },
  {
   "cell_type": "code",
   "execution_count": null,
   "metadata": {},
   "outputs": [],
   "source": [
    "pd.DataFrame(errors)"
   ]
  },
  {
   "cell_type": "code",
   "execution_count": null,
   "metadata": {},
   "outputs": [],
   "source": [
    "df = (\n",
    "    pd.DataFrame(errors)\n",
    "    .groupby(\"metric\")\n",
    "    .agg({\"value\": [\"mean\", \"std\"]})\n",
    "    .droplevel(0, axis=1)\n",
    ")\n",
    "\n",
    "df[\"Human Analysts\"] = (\n",
    "    df[\"mean\"].apply(lambda x: f\"{x:0>2.3f}\")\n",
    "    + \"±\"\n",
    "    + df[\"std\"].apply(lambda x: f\"{x:.2f}\")\n",
    ")\n",
    "del df[\"mean\"]\n",
    "del df[\"std\"]\n",
    "\n",
    "as_col = df.transpose()\n",
    "as_col[\"nCRPS\"] = as_col[\"MAE\"]\n",
    "\n",
    "print(\n",
    "    as_col[\n",
    "        [\n",
    "            \"MAE\",\n",
    "            \"MSE\",\n",
    "            \"RMSE\",\n",
    "            \"MAPE\",\n",
    "            \"RSE\",\n",
    "            \"SMAPE\",\n",
    "            \"R2\",\n",
    "            \"nCRPS\",\n",
    "        ]\n",
    "    ].to_latex()\n",
    ")"
   ]
  },
  {
   "cell_type": "code",
   "execution_count": null,
   "metadata": {},
   "outputs": [],
   "source": []
  }
 ],
 "metadata": {
  "kernelspec": {
   "display_name": "base",
   "language": "python",
   "name": "python3"
  },
  "language_info": {
   "codemirror_mode": {
    "name": "ipython",
    "version": 3
   },
   "file_extension": ".py",
   "mimetype": "text/x-python",
   "name": "python",
   "nbconvert_exporter": "python",
   "pygments_lexer": "ipython3",
   "version": "3.10.13"
  }
 },
 "nbformat": 4,
 "nbformat_minor": 2
}
